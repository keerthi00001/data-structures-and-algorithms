{
  "nbformat": 4,
  "nbformat_minor": 0,
  "metadata": {
    "colab": {
      "provenance": [],
      "authorship_tag": "ABX9TyNkSCaQSjMbI3AhtIXAVtv8",
      "include_colab_link": true
    },
    "kernelspec": {
      "name": "python3",
      "display_name": "Python 3"
    },
    "language_info": {
      "name": "python"
    }
  },
  "cells": [
    {
      "cell_type": "markdown",
      "metadata": {
        "id": "view-in-github",
        "colab_type": "text"
      },
      "source": [
        "<a href=\"https://colab.research.google.com/github/keerthi00001/data-structures-and-algorithms/blob/master/Copy_of_Untitled17.ipynb\" target=\"_parent\"><img src=\"https://colab.research.google.com/assets/colab-badge.svg\" alt=\"Open In Colab\"/></a>"
      ]
    },
    {
      "cell_type": "code",
      "execution_count": null,
      "metadata": {
        "colab": {
          "base_uri": "https://localhost:8080/"
        },
        "id": "KVb7ZHfUHcrX",
        "outputId": "a1d08a4d-d3fd-4a2d-c46b-f7fafadf777c"
      },
      "outputs": [
        {
          "output_type": "stream",
          "name": "stdout",
          "text": [
            "{\"message\":\"You are not subscribed to this API.\"}\n"
          ]
        }
      ],
      "source": [
        "import http.client\n",
        "\n",
        "conn = http.client.HTTPSConnection(\"get-email-information.p.rapidapi.com\")\n",
        "\n",
        "headers = {\n",
        "    'X-RapidAPI-Key': \"SIGN-UP-FOR-KEY\",\n",
        "    'X-RapidAPI-Host': \"get-email-information.p.rapidapi.com\"\n",
        "}\n",
        "\n",
        "conn.request(\"GET\", \"/getemailinfo?email=johnsmith%40yahoo.co.uk\", headers=headers)\n",
        "\n",
        "res = conn.getresponse()\n",
        "data = res.read()\n",
        "\n",
        "print(data.decode(\"utf-8\"))"
      ]
    },
    {
      "cell_type": "code",
      "source": [
        "import requests\n",
        "\n",
        "def get_linkedin_profile(email, access_token):\n",
        "    # LinkedIn API endpoint for retrieving profile by email\n",
        "    url = f\"https://api.linkedin.com/v2/emailAddress?q=members&projection=(elements*(handle~))&email={email}\"\n",
        "\n",
        "    # Set authorization headers\n",
        "    headers = {\n",
        "        \"Authorization\": f\"Bearer {access_token}\",\n",
        "        \"Connection\": \"Keep-Alive\"\n",
        "    }\n",
        "\n",
        "    try:\n",
        "        # Make the API request\n",
        "        response = requests.get(url, headers=headers)\n",
        "        data = response.json()\n",
        "\n",
        "        # Check if the request was successful\n",
        "        if response.status_code == 200:\n",
        "            # Assuming there might be multiple results, extracting the first one\n",
        "            profile_handle = data.get(\"elements\", [{}])[0].get(\"handle~\", {})\n",
        "            return profile_handle\n",
        "        else:\n",
        "            print(f\"Error: {data['message']}\")\n",
        "            return None\n",
        "\n",
        "    except Exception as e:\n",
        "        print(f\"Error: {e}\")\n",
        "        return None\n",
        "\n",
        "# Example usage\n",
        "email_address = \"example@example.com\"\n",
        "access_token = \"YOUR_ACCESS_TOKEN\"\n",
        "\n",
        "profile_handle = get_linkedin_profile(email_address, access_token)\n",
        "if profile_handle:\n",
        "    print(\"LinkedIn Profile Handle:\", profile_handle)\n",
        "else:\n",
        "    print(\"Failed to retrieve LinkedIn profile.\")\n"
      ],
      "metadata": {
        "id": "2-jhAkkKHhLO"
      },
      "execution_count": null,
      "outputs": []
    },
    {
      "cell_type": "code",
      "source": [
        "pip install requests\n"
      ],
      "metadata": {
        "id": "oTozy9cpNa_7"
      },
      "execution_count": null,
      "outputs": []
    },
    {
      "cell_type": "code",
      "source": [
        "import requests\n",
        "\n",
        "# Define your LinkedIn API access token\n",
        "access_token = 'Your_LinkedIn_Access_Token'\n",
        "\n",
        "# Define the email address you want to search for\n",
        "email_address = 'example@example.com'\n",
        "\n",
        "# Define the LinkedIn API endpoint for searching by email\n",
        "url = f'https://api.linkedin.com/v2/emailAddress:{email_address}'\n",
        "\n",
        "# Define the headers with the access token\n",
        "headers = {\n",
        "    'Authorization': f'Bearer {access_token}',\n",
        "    'Connection': 'Keep-Alive',\n",
        "}\n",
        "\n",
        "# Send a GET request to the LinkedIn API\n",
        "response = requests.get(url, headers=headers)\n",
        "\n",
        "# Check if the request was successful (status code 200)\n",
        "if response.status_code == 200:\n",
        "    # Parse the JSON response\n",
        "    data = response.json()\n",
        "    # Print the user's profile information\n"
      ],
      "metadata": {
        "id": "yMWAYUvcNa8l"
      },
      "execution_count": null,
      "outputs": []
    }
  ]
}